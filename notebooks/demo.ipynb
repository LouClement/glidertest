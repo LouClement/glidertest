{
 "cells": [
  {
   "cell_type": "code",
   "execution_count": null,
   "id": "1f934a57-494c-4000-b3e3-0355d6459274",
   "metadata": {},
   "outputs": [],
   "source": [
    "import matplotlib.pyplot as plt\n",
    "import sys \n",
    "\n",
    "dir = 'C:\\\\Users\\\\u241346\\\\uni_hamburg\\\\glidertest'\n",
    "sys.path.append(dir)\n",
    "\n",
    "from glidertest import fetchers\n",
    "from glidertest import tools"
   ]
  },
  {
   "cell_type": "markdown",
   "id": "dd041858-c498-4654-a7c8-1731beb839fc",
   "metadata": {},
   "source": [
    "### Load dataset\n",
    "\n",
    "Load an example dataset using `glidertest.fetchers.load_sample_dataset`\n",
    "\n",
    "Alternatively, use your own with e.g. `ds = xr.open_dataset('/path/to/yourfile.nc')`"
   ]
  },
  {
   "cell_type": "code",
   "execution_count": null,
   "id": "c336267e-b924-4bcf-937a-5f0c11857da2",
   "metadata": {},
   "outputs": [],
   "source": [
    "ds = fetchers.load_sample_dataset()"
   ]
  },
  {
   "cell_type": "code",
   "execution_count": null,
   "id": "7949091c-53f3-4e0e-9653-ab39fc312930",
   "metadata": {},
   "outputs": [],
   "source": [
    "ds"
   ]
  },
  {
   "cell_type": "markdown",
   "id": "4f0504af-b61b-4369-b2d9-f41101bf06d3",
   "metadata": {},
   "source": [
    "### Check basic data and water column structure first"
   ]
  },
  {
   "cell_type": "code",
   "execution_count": null,
   "id": "df3badf9-77bc-4980-bbcf-667ecbe7ac83",
   "metadata": {},
   "outputs": [],
   "source": [
    "tools.plot_basic_vars(ds,v_res=1, start_prof=1, end_prof=int(ds.PROFILE_NUMBER.max()))"
   ]
  },
  {
   "cell_type": "code",
   "execution_count": null,
   "id": "1c7071c3-e90c-41de-b1a3-508dae16933f",
   "metadata": {},
   "outputs": [],
   "source": [
    "fig, ax = plt.subplots(1,4,figsize=(15, 5))\n",
    "tools.test_updown_bias(ds, ax[0],var='PSAL',v_res=0.1)\n",
    "tools.test_updown_bias(ds,ax[1], var='CHLA',v_res=0.1)\n",
    "tools.test_updown_bias(ds, ax[2], var='TEMP',v_res=0.1)\n",
    "tools.test_updown_bias(ds, ax[3], var='DOXY',v_res=0.1)"
   ]
  },
  {
   "cell_type": "markdown",
   "id": "75d7fd29-061b-47bf-b978-23460ef8a33e",
   "metadata": {},
   "source": [
    "### Chlorophyll\n",
    "Reminder this mission had issues with FLBBCD, got flooded"
   ]
  },
  {
   "cell_type": "code",
   "execution_count": null,
   "id": "1cb7cb44-d228-4a1b-bdc6-0214b240e4bd",
   "metadata": {},
   "outputs": [],
   "source": [
    "tools.chl_first_check(ds)"
   ]
  },
  {
   "cell_type": "code",
   "execution_count": null,
   "id": "51e65b25-d430-4e2c-b54c-09d5e88d202e",
   "metadata": {},
   "outputs": [],
   "source": []
  }
 ],
 "metadata": {
  "kernelspec": {
   "display_name": "Python 3 (ipykernel)",
   "language": "python",
   "name": "python3"
  },
  "language_info": {
   "codemirror_mode": {
    "name": "ipython",
    "version": 3
   },
   "file_extension": ".py",
   "mimetype": "text/x-python",
   "name": "python",
   "nbconvert_exporter": "python",
   "pygments_lexer": "ipython3",
   "version": "3.11.8"
  }
 },
 "nbformat": 4,
 "nbformat_minor": 5
}
